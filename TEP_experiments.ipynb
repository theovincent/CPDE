{
  "cells": [
    {
      "cell_type": "markdown",
      "metadata": {
        "id": "gcRN0oJTSKlN"
      },
      "source": [
        "## Setup (for colab only)"
      ]
    },
    {
      "cell_type": "code",
      "execution_count": null,
      "metadata": {
        "colab": {
          "base_uri": "https://localhost:8080/"
        },
        "id": "LHUisml1SsQY",
        "outputId": "a8dff1ad-1b34-4103-e1e0-3732d46ce665"
      },
      "outputs": [],
      "source": [
        "! git clone https://github.com/theovincent/CPDE.git -b make_ipynb_working"
      ]
    },
    {
      "cell_type": "code",
      "execution_count": null,
      "metadata": {
        "colab": {
          "base_uri": "https://localhost:8080/"
        },
        "id": "iwixpEGYSq71",
        "outputId": "4d245eb1-34b2-4f13-ec24-4806d4c19aea"
      },
      "outputs": [],
      "source": [
        "import os \n",
        "\n",
        "os.chdir(\"/content/CPDE\")\n",
        "\n",
        "! pip install -r requirements.txt"
      ]
    },
    {
      "cell_type": "code",
      "execution_count": null,
      "metadata": {
        "colab": {
          "base_uri": "https://localhost:8080/"
        },
        "id": "jwS7vf2VTLgQ",
        "outputId": "8fe6a39a-b6cb-4645-b057-7c42ab5d92ba"
      },
      "outputs": [],
      "source": [
        "! git pull"
      ]
    },
    {
      "cell_type": "markdown",
      "metadata": {
        "id": "ZmNnF_HRSHnO"
      },
      "source": [
        "## Imports"
      ]
    },
    {
      "cell_type": "code",
      "execution_count": null,
      "metadata": {
        "colab": {
          "base_uri": "https://localhost:8080/"
        },
        "id": "Yr8HQpOASHnS",
        "outputId": "6279f9ba-8b13-4664-8da9-0504531f0e8a"
      },
      "outputs": [],
      "source": [
        "from datetime import datetime, timedelta\n",
        "import pandas as pd\n",
        "import numpy as np\n",
        "from tqdm.notebook import tqdm\n",
        "\n",
        "import ruptures as rpt\n",
        "from SKAB_data.evaluating import evaluating_change_point\n",
        "\n",
        "%load_ext autoreload\n",
        "%autoreload 2\n",
        "\n",
        "from ensemble_methods.aggregations import SCALING_AGGREGATION\n",
        "\n",
        "SINGLE_COSTS = (\n",
        "    {'name': 'ar_1', 'cost':'ar', 'params':{'order':1}},\n",
        "    {'name': 'mahalanobis', 'cost':'mahalanobis', 'params':{}},\n",
        "    {'name': 'l1', 'cost':'l1', 'params':{}},\n",
        "    {'name': 'l2', 'cost':'l2', 'params':{}},\n",
        "    {'name': 'linear', 'cost':'linear', 'params':{}},\n",
        "    {'name': 'rbf', 'cost': 'rbf', 'params': {}}\n",
        ")\n",
        "LIST_COSTS = [dict_cost[\"cost\"] for dict_cost in SINGLE_COSTS]\n",
        "PARAMS = {\"ar\": {'order':1}}\n",
        "\n",
        "DESIRED_ORDER = [\"Standart\", \"LowFP\", \"LowFN\"]"
      ]
    },
    {
      "cell_type": "markdown",
      "metadata": {
        "id": "7K5Bf7scSHnX"
      },
      "source": [
        "## Load data"
      ]
    },
    {
      "cell_type": "code",
      "execution_count": null,
      "metadata": {
        "id": "LFYq3SXuSHnY"
      },
      "outputs": [],
      "source": [
        "from glob import glob\n",
        "\n",
        "from sklearn.preprocessing import StandardScaler\n",
        "\n",
        "# Get the data\n",
        "files = sorted(glob('TEP_data/*_te.dat'))\n",
        "\n",
        "columns=[]\n",
        "for i in range(1, 42):\n",
        "    columns.append(\"XMEAS({})\".format(i))\n",
        "for i in range(1, 12):\n",
        "    columns.append(\"XMV({})\".format(i))\n",
        "\n",
        "# We do not use the first file because it does not contain a defect\n",
        "test = {}\n",
        "for i, j in enumerate(files[1:], start=1):\n",
        "    test[i] = pd.read_table(j, sep=\"\\s+\", names=columns)\n",
        "\n",
        "# Standardise\n",
        "for idx_data in test:\n",
        "    stsc = StandardScaler()\n",
        "    test[idx_data] = pd.DataFrame(stsc.fit_transform(test[idx_data]), columns=test[idx_data].columns, index=test[idx_data].index)\n",
        "\n",
        "\n",
        "# Get the labels\n",
        "INDEX = pd.to_datetime(\n",
        "        [datetime(2020,1,1)+timedelta(minutes=m) for m in test[1].index*3]\n",
        "    )\n",
        "true_cp = pd.Series(data=0, index=INDEX)\n",
        "# Out of the 48 hours of monitoring, the faults were introduced 8 hours after the beginning\n",
        "true_cp.iloc[160] = 1\n",
        "true_cp = [true_cp]*len(test)"
      ]
    },
    {
      "cell_type": "markdown",
      "metadata": {
        "id": "OuLa3m38SHnZ"
      },
      "source": [
        "## Visualize a signal"
      ]
    },
    {
      "cell_type": "code",
      "execution_count": null,
      "metadata": {
        "colab": {
          "base_uri": "https://localhost:8080/",
          "height": 441
        },
        "id": "va3ZlMYgSHnb",
        "outputId": "06b3d72e-87b7-46e3-b20c-c352e3f1757d"
      },
      "outputs": [],
      "source": [
        "_ = rpt.display(test[1].values[:, 30: 33], [160, 960])"
      ]
    },
    {
      "cell_type": "markdown",
      "metadata": {
        "id": "stqHvW7uSHne"
      },
      "source": [
        "## Window search"
      ]
    },
    {
      "cell_type": "code",
      "execution_count": null,
      "metadata": {},
      "outputs": [],
      "source": [
        "def window_search(cost, params, **kwargs):\n",
        "    predicted_cp = []\n",
        "    for idx_data in test:\n",
        "        algo = rpt.Window(model=cost, \n",
        "                          params=params, \n",
        "                          width=20,)\n",
        "        algo.fit(np.array(test[idx_data]))\n",
        "        my_bkps = algo.predict(n_bkps=1)\n",
        "        \n",
        "        single_predicted_cp = pd.Series(data=0, index=true_cp[0].index)\n",
        "        single_predicted_cp[single_predicted_cp.index[my_bkps[:-1]]] = 1\n",
        "        predicted_cp.append(single_predicted_cp)\n",
        "\n",
        "    nab = evaluating_change_point(true_cp, predicted_cp, metric='nab', numenta_time='288 min')\n",
        "    return nab\n",
        "\n",
        "table_costs_window = {}\n",
        "for cost in tqdm(SINGLE_COSTS):\n",
        "    table_costs_window[cost[\"name\"]] = window_search(**cost)\n",
        "\n",
        "pd.DataFrame(table_costs_window).T[DESIRED_ORDER]"
      ]
    },
    {
      "cell_type": "code",
      "execution_count": null,
      "metadata": {
        "colab": {
          "base_uri": "https://localhost:8080/",
          "height": 179
        },
        "id": "Eb_Wrj3JSHng",
        "outputId": "00cd319d-4f84-405b-800a-b13726febec3"
      },
      "outputs": [],
      "source": [
        "def window_search_ensemble_bound():\n",
        "    predicted_cp = []\n",
        "    for idx_data in tqdm(test):\n",
        "        best_nab_sum = - float(\"inf\")\n",
        "        best_single_predicted_cp = pd.Series(data=0, index=true_cp[0].index)\n",
        "\n",
        "        for model in SINGLE_COSTS:\n",
        "            algo = rpt.Window(model=model[\"cost\"], \n",
        "                            params=model[\"params\"], \n",
        "                            width=20,)\n",
        "            algo.fit(np.array(test[idx_data]))\n",
        "            my_bkps = algo.predict(n_bkps=1)\n",
        "            \n",
        "            single_predicted_cp = pd.Series(data=0, index=true_cp[0].index)\n",
        "            single_predicted_cp[single_predicted_cp.index[my_bkps[:-1]]] = 1\n",
        "            \n",
        "            nab_model = evaluating_change_point([true_cp[0]], [single_predicted_cp], metric='nab', numenta_time='288 min')\n",
        "            \n",
        "            if sum(list(nab_model.values())) > best_nab_sum:\n",
        "                best_nab_sum = sum(list(nab_model.values()))\n",
        "                best_single_predicted_cp = single_predicted_cp\n",
        "                \n",
        "        predicted_cp.append(best_single_predicted_cp)\n",
        "\n",
        "    nab = evaluating_change_point(true_cp, predicted_cp, metric='nab', numenta_time='288 min')\n",
        "    return nab\n",
        "\n",
        "window_ensemble_bound = window_search_ensemble_bound()\n",
        "pd.DataFrame(window_ensemble_bound, index=[\"Ensemble bound\"])[DESIRED_ORDER]"
      ]
    },
    {
      "cell_type": "code",
      "execution_count": null,
      "metadata": {
        "id": "XsU-qh5CSHnj"
      },
      "outputs": [],
      "source": [
        "from ensemble_methods.window_ensemble import WindowEnsemble\n",
        "\n",
        "def window_search_ensemble(scale_aggregation):\n",
        "    predicted_cp = []\n",
        "    for idx_data in tqdm(test, leave=None, position=1):\n",
        "        algo = WindowEnsemble(\n",
        "            width=20,\n",
        "            models=LIST_COSTS,\n",
        "            params=PARAMS, \n",
        "            scale_aggregation=scale_aggregation,\n",
        "        )\n",
        "        single_predicted_cp = pd.Series(data=0, index=true_cp[0].index)\n",
        "        \n",
        "        algo.fit(np.array(test[idx_data]))\n",
        "        my_bkps = algo.predict(n_bkps=1)\n",
        "\n",
        "        single_predicted_cp[single_predicted_cp.index[my_bkps[:-1]]] = 1\n",
        "        predicted_cp.append(single_predicted_cp)\n",
        "\n",
        "    nab = evaluating_change_point(true_cp, predicted_cp, metric='nab', numenta_time='288 min')\n",
        "    return nab"
      ]
    },
    {
      "cell_type": "code",
      "execution_count": null,
      "metadata": {
        "colab": {
          "base_uri": "https://localhost:8080/",
          "height": 1000
        },
        "id": "e1XQXOxXSHnk",
        "outputId": "fd352dd2-4551-431a-d1ca-b0f3c702cac2"
      },
      "outputs": [],
      "source": [
        "table_ensemble_window = {}\n",
        "for scale_aggregation_name, scale_aggregation in tqdm(SCALING_AGGREGATION.items(), position=0):\n",
        "    table_ensemble_window[scale_aggregation_name] = window_search_ensemble(scale_aggregation)\n",
        "\n",
        "pd.DataFrame(table_ensemble_window).T[DESIRED_ORDER]"
      ]
    },
    {
      "cell_type": "markdown",
      "metadata": {
        "id": "Y6C3HO1bSHnk"
      },
      "source": [
        "## Dynamic Programming"
      ]
    },
    {
      "cell_type": "code",
      "execution_count": null,
      "metadata": {
        "colab": {
          "base_uri": "https://localhost:8080/",
          "height": 255
        },
        "id": "Sn8sToj7SHnl",
        "outputId": "728379c4-28ad-4732-8704-930b0a0c2079"
      },
      "outputs": [],
      "source": [
        "def dynp_search(cost, params, **kwargs):\n",
        "    predicted_cp = []\n",
        "    for idx_data in test:\n",
        "        algo = rpt.Dynp(model=cost, \n",
        "                          params=params,\n",
        "                          )\n",
        "        algo.fit(np.array(test[idx_data]))\n",
        "        my_bkps = algo.predict(n_bkps=1)\n",
        "        \n",
        "        single_predicted_cp = pd.Series(data=0, index=true_cp[0].index)\n",
        "        single_predicted_cp[single_predicted_cp.index[my_bkps[:-1]]] = 1\n",
        "        predicted_cp.append(single_predicted_cp)\n",
        "\n",
        "    nab = evaluating_change_point(true_cp, predicted_cp, metric='nab', numenta_time='288 min')\n",
        "    return nab\n",
        "\n",
        "table_costs_dynp = {}\n",
        "for cost in tqdm(SINGLE_COSTS):\n",
        "    table_costs_dynp[cost[\"name\"]] = dynp_search(**cost)\n",
        "\n",
        "pd.DataFrame(table_costs_dynp).T[DESIRED_ORDER]"
      ]
    },
    {
      "cell_type": "code",
      "execution_count": null,
      "metadata": {
        "colab": {
          "base_uri": "https://localhost:8080/",
          "height": 98
        },
        "id": "NuldZlQOSHnm",
        "outputId": "a5f8c73a-010c-43a2-f33f-574e5c1f4ead"
      },
      "outputs": [],
      "source": [
        "def dynp_search_ensemble_bound():\n",
        "    predicted_cp = []\n",
        "    for idx_data in tqdm(test):\n",
        "        best_nab_sum = - float(\"inf\")\n",
        "        best_single_predicted_cp = pd.Series(data=0, index=true_cp[0].index)\n",
        "\n",
        "        for model in SINGLE_COSTS:\n",
        "            algo = rpt.Dynp(\n",
        "                    model=model[\"cost\"], \n",
        "                    params=model[\"params\"]\n",
        "                )\n",
        "            algo.fit(np.array(test[idx_data]))\n",
        "            my_bkps = algo.predict(n_bkps=1)\n",
        "            \n",
        "            single_predicted_cp = pd.Series(data=0, index=true_cp[0].index)\n",
        "            single_predicted_cp[single_predicted_cp.index[my_bkps[:-1]]] = 1\n",
        "            \n",
        "            nab_model = evaluating_change_point([true_cp[0]], [single_predicted_cp], metric='nab', numenta_time='288 min')\n",
        "            \n",
        "            if sum(list(nab_model.values())) > best_nab_sum:\n",
        "                best_nab_sum = sum(list(nab_model.values()))\n",
        "                best_single_predicted_cp = single_predicted_cp\n",
        "                \n",
        "        predicted_cp.append(best_single_predicted_cp)\n",
        "\n",
        "    nab = evaluating_change_point(true_cp, predicted_cp, metric='nab', numenta_time='288 min')\n",
        "    return nab\n",
        "\n",
        "dynp_ensemble_bound = dynp_search_ensemble_bound()\n",
        "pd.DataFrame(dynp_ensemble_bound, index=[\"Ensemble bound\"])[DESIRED_ORDER]"
      ]
    },
    {
      "cell_type": "code",
      "execution_count": null,
      "metadata": {
        "id": "VHqfqakmSHnn"
      },
      "outputs": [],
      "source": [
        "from ensemble_methods.dynamic_programming_ensemble import DynpEnsemble\n",
        "\n",
        "def dynamique_programming_ensemble(scale_aggregation):\n",
        "    predicted_cp = []\n",
        "    for idx_data in tqdm(test, leave=False, position=1):\n",
        "        algo = DynpEnsemble(\n",
        "            models=LIST_COSTS,\n",
        "            params=PARAMS, \n",
        "            scale_aggregation=scale_aggregation,\n",
        "        )\n",
        "        single_predicted_cp = pd.Series(data=0, index=true_cp[0].index)\n",
        "        \n",
        "        algo.fit(np.array(test[idx_data]))\n",
        "        my_bkps = algo.predict(n_bkps=1)\n",
        "\n",
        "        single_predicted_cp[single_predicted_cp.index[my_bkps[:-1]]] = 1\n",
        "        predicted_cp.append(single_predicted_cp)\n",
        "\n",
        "    nab = evaluating_change_point(true_cp, predicted_cp, metric='nab', numenta_time='288 min')\n",
        "    return nab"
      ]
    },
    {
      "cell_type": "code",
      "execution_count": null,
      "metadata": {
        "colab": {
          "base_uri": "https://localhost:8080/",
          "height": 1000
        },
        "id": "jVpMT67RSHno",
        "outputId": "56d68433-6ab9-4dcc-ecf2-50b87cc694c9"
      },
      "outputs": [],
      "source": [
        "table_ensemble_dynp = {}\n",
        "for scale_aggregation_name, scale_aggregation in tqdm(SCALING_AGGREGATION.items(), position=0):\n",
        "    table_ensemble_dynp[scale_aggregation_name] = dynamique_programming_ensemble(scale_aggregation)\n",
        "\n",
        "pd.DataFrame(table_ensemble_dynp).T[DESIRED_ORDER]"
      ]
    },
    {
      "cell_type": "markdown",
      "metadata": {
        "id": "2dJPTPixSHnp"
      },
      "source": [
        "## Binary Segmentation"
      ]
    },
    {
      "cell_type": "code",
      "execution_count": null,
      "metadata": {
        "colab": {
          "base_uri": "https://localhost:8080/",
          "height": 255
        },
        "id": "nJRIXccASHnp",
        "outputId": "6b92191a-efd4-48e9-f207-3e29b60e272c"
      },
      "outputs": [],
      "source": [
        "def binseg_search(cost, params, **kwargs):\n",
        "    predicted_cp = []\n",
        "    for idx_data in test:\n",
        "        algo = rpt.Binseg(model=cost, \n",
        "                          params=params,)\n",
        "        algo.fit(np.array(test[idx_data]))\n",
        "        my_bkps = algo.predict(n_bkps=1)\n",
        "        \n",
        "        single_predicted_cp = pd.Series(data=0, index=true_cp[0].index)\n",
        "        single_predicted_cp[single_predicted_cp.index[my_bkps[:-1]]] = 1\n",
        "        predicted_cp.append(single_predicted_cp)\n",
        "\n",
        "    nab = evaluating_change_point(true_cp, predicted_cp, metric='nab', numenta_time='288 min')\n",
        "    return nab\n",
        "\n",
        "table_costs_dynp = {}\n",
        "for cost in tqdm(SINGLE_COSTS):\n",
        "    table_costs_dynp[cost[\"name\"]] = binseg_search(**cost)\n",
        "\n",
        "pd.DataFrame(table_costs_dynp).T[DESIRED_ORDER]"
      ]
    },
    {
      "cell_type": "code",
      "execution_count": null,
      "metadata": {
        "colab": {
          "base_uri": "https://localhost:8080/",
          "height": 98
        },
        "id": "O2AXseEzSHnq",
        "outputId": "a0af0bc8-d6c4-4ebc-b732-493059f9b6e0"
      },
      "outputs": [],
      "source": [
        "def binseg_search_ensemble_bound():\n",
        "    predicted_cp = []\n",
        "    for idx_data in tqdm(test):\n",
        "        best_nab_sum = - float(\"inf\")\n",
        "        best_single_predicted_cp = pd.Series(data=0, index=true_cp[0].index)\n",
        "\n",
        "        for model in SINGLE_COSTS:\n",
        "            algo = rpt.Binseg(model=model[\"cost\"], \n",
        "                          params=model[\"params\"],)\n",
        "            algo.fit(np.array(test[idx_data]))\n",
        "            my_bkps = algo.predict(n_bkps=1)\n",
        "            \n",
        "            single_predicted_cp = pd.Series(data=0, index=true_cp[0].index)\n",
        "            single_predicted_cp[single_predicted_cp.index[my_bkps[:-1]]] = 1\n",
        "            \n",
        "            nab_model = evaluating_change_point([true_cp[0]], [single_predicted_cp], metric='nab', numenta_time='288 min')\n",
        "            \n",
        "            if sum(list(nab_model.values())) > best_nab_sum:\n",
        "                best_nab_sum = sum(list(nab_model.values()))\n",
        "                best_single_predicted_cp = single_predicted_cp\n",
        "                \n",
        "        predicted_cp.append(best_single_predicted_cp)\n",
        "\n",
        "    nab = evaluating_change_point(true_cp, predicted_cp, metric='nab', numenta_time='288 min')\n",
        "    return nab\n",
        "\n",
        "binseg_ensemble_bound = binseg_search_ensemble_bound()\n",
        "pd.DataFrame(binseg_ensemble_bound, index=[\"Ensemble bound\"])[DESIRED_ORDER]"
      ]
    },
    {
      "cell_type": "code",
      "execution_count": null,
      "metadata": {
        "id": "UGrwptjQSHnq"
      },
      "outputs": [],
      "source": [
        "from ensemble_methods.binary_segmentation_ensemble import BinsegEnsemble\n",
        "\n",
        "def binary_segmentation_ensemble(scale_aggregation):\n",
        "    predicted_cp = []\n",
        "    for idx_data in tqdm(test, leave=False, position=1):\n",
        "        algo = BinsegEnsemble(\n",
        "            models=LIST_COSTS,\n",
        "            params=PARAMS, \n",
        "            scale_aggregation=scale_aggregation,\n",
        "        )\n",
        "        single_predicted_cp = pd.Series(data=0, index=true_cp[0].index)\n",
        "        \n",
        "        algo.fit(np.array(test[idx_data]))\n",
        "        my_bkps = algo.predict(n_bkps=1)\n",
        "\n",
        "        single_predicted_cp[single_predicted_cp.index[my_bkps[:-1]]] = 1\n",
        "        predicted_cp.append(single_predicted_cp)\n",
        "\n",
        "    nab = evaluating_change_point(true_cp, predicted_cp, metric='nab', numenta_time='288 min')\n",
        "    return nab"
      ]
    },
    {
      "cell_type": "code",
      "execution_count": null,
      "metadata": {
        "colab": {
          "base_uri": "https://localhost:8080/",
          "height": 1000
        },
        "id": "B0AA3czQSHnr",
        "outputId": "5720f8c9-5425-4a03-e92e-f229a7d17edc"
      },
      "outputs": [],
      "source": [
        "table_ensemble_dynp = {}\n",
        "for scale_aggregation_name, scale_aggregation in tqdm(SCALING_AGGREGATION.items(), position=0):\n",
        "    table_ensemble_dynp[scale_aggregation_name] = binary_segmentation_ensemble(scale_aggregation)\n",
        "\n",
        "pd.DataFrame(table_ensemble_dynp).T[DESIRED_ORDER]"
      ]
    }
  ],
  "metadata": {
    "colab": {
      "collapsed_sections": [
        "gcRN0oJTSKlN",
        "ZmNnF_HRSHnO",
        "7K5Bf7scSHnX",
        "OuLa3m38SHnZ",
        "stqHvW7uSHne",
        "Y6C3HO1bSHnk",
        "2dJPTPixSHnp"
      ],
      "include_colab_link": true,
      "name": "TEP_scores.ipynb",
      "provenance": []
    },
    "interpreter": {
      "hash": "4aaa9ed3599f8e76e96f2ede0232ba237938d872a1ef871a32732cbd7a6f3e73"
    },
    "kernelspec": {
      "display_name": "Python 3.8.10 ('env': venv)",
      "language": "python",
      "name": "python3"
    },
    "language_info": {
      "codemirror_mode": {
        "name": "ipython",
        "version": 3
      },
      "file_extension": ".py",
      "mimetype": "text/x-python",
      "name": "python",
      "nbconvert_exporter": "python",
      "pygments_lexer": "ipython3",
      "version": "3.8.10"
    },
    "orig_nbformat": 4
  },
  "nbformat": 4,
  "nbformat_minor": 0
}
